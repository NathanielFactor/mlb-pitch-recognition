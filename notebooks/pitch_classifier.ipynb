{
  "nbformat": 4,
  "nbformat_minor": 0,
  "metadata": {
    "colab": {
      "provenance": [],
      "gpuType": "T4",
      "collapsed_sections": [
        "5AOHeFnckOsi",
        "-qX0IKiikBmM",
        "TanlHQeD4nFK",
        "1F22AOZncQY8",
        "MQ1_fHK7WtPJ",
        "1x-od1i-2pGQ"
      ]
    },
    "kernelspec": {
      "name": "python3",
      "display_name": "Python 3"
    },
    "language_info": {
      "name": "python"
    },
    "accelerator": "GPU",
    "widgets": {
      "application/vnd.jupyter.widget-state+json": {
        "e56be21d1ea747358ee5e00fb9b07af2": {
          "model_module": "@jupyter-widgets/controls",
          "model_name": "HBoxModel",
          "model_module_version": "1.5.0",
          "state": {
            "_dom_classes": [],
            "_model_module": "@jupyter-widgets/controls",
            "_model_module_version": "1.5.0",
            "_model_name": "HBoxModel",
            "_view_count": null,
            "_view_module": "@jupyter-widgets/controls",
            "_view_module_version": "1.5.0",
            "_view_name": "HBoxView",
            "box_style": "",
            "children": [
              "IPY_MODEL_22c3577bc1b14117bab6f2bb3e7cea0e",
              "IPY_MODEL_d4d783f064e7404f9c524dd2a9d5fa3b",
              "IPY_MODEL_781ab9df181a4423ba0975634a010fb7"
            ],
            "layout": "IPY_MODEL_46f5e72a5f7e44169053da3f01b35b83"
          }
        },
        "22c3577bc1b14117bab6f2bb3e7cea0e": {
          "model_module": "@jupyter-widgets/controls",
          "model_name": "HTMLModel",
          "model_module_version": "1.5.0",
          "state": {
            "_dom_classes": [],
            "_model_module": "@jupyter-widgets/controls",
            "_model_module_version": "1.5.0",
            "_model_name": "HTMLModel",
            "_view_count": null,
            "_view_module": "@jupyter-widgets/controls",
            "_view_module_version": "1.5.0",
            "_view_name": "HTMLView",
            "description": "",
            "description_tooltip": null,
            "layout": "IPY_MODEL_f3c1cce9789f41918089bf16944659ed",
            "placeholder": "​",
            "style": "IPY_MODEL_ea7fee4822b846609a40eae8c76c9e79",
            "value": "Map:   8%"
          }
        },
        "d4d783f064e7404f9c524dd2a9d5fa3b": {
          "model_module": "@jupyter-widgets/controls",
          "model_name": "FloatProgressModel",
          "model_module_version": "1.5.0",
          "state": {
            "_dom_classes": [],
            "_model_module": "@jupyter-widgets/controls",
            "_model_module_version": "1.5.0",
            "_model_name": "FloatProgressModel",
            "_view_count": null,
            "_view_module": "@jupyter-widgets/controls",
            "_view_module_version": "1.5.0",
            "_view_name": "ProgressView",
            "bar_style": "",
            "description": "",
            "description_tooltip": null,
            "layout": "IPY_MODEL_cd47fc8327374eb5b06111d931a84fd3",
            "max": 120000,
            "min": 0,
            "orientation": "horizontal",
            "style": "IPY_MODEL_d0f91ecd345b4dbfab765f9486909459",
            "value": 9000
          }
        },
        "781ab9df181a4423ba0975634a010fb7": {
          "model_module": "@jupyter-widgets/controls",
          "model_name": "HTMLModel",
          "model_module_version": "1.5.0",
          "state": {
            "_dom_classes": [],
            "_model_module": "@jupyter-widgets/controls",
            "_model_module_version": "1.5.0",
            "_model_name": "HTMLModel",
            "_view_count": null,
            "_view_module": "@jupyter-widgets/controls",
            "_view_module_version": "1.5.0",
            "_view_name": "HTMLView",
            "description": "",
            "description_tooltip": null,
            "layout": "IPY_MODEL_5c1fd61472c44dd9bb06f569b58a58c7",
            "placeholder": "​",
            "style": "IPY_MODEL_af3a044f069844b3bc2fc189c51415a9",
            "value": " 9000/120000 [00:09&lt;02:07, 868.09 examples/s]"
          }
        },
        "46f5e72a5f7e44169053da3f01b35b83": {
          "model_module": "@jupyter-widgets/base",
          "model_name": "LayoutModel",
          "model_module_version": "1.2.0",
          "state": {
            "_model_module": "@jupyter-widgets/base",
            "_model_module_version": "1.2.0",
            "_model_name": "LayoutModel",
            "_view_count": null,
            "_view_module": "@jupyter-widgets/base",
            "_view_module_version": "1.2.0",
            "_view_name": "LayoutView",
            "align_content": null,
            "align_items": null,
            "align_self": null,
            "border": null,
            "bottom": null,
            "display": null,
            "flex": null,
            "flex_flow": null,
            "grid_area": null,
            "grid_auto_columns": null,
            "grid_auto_flow": null,
            "grid_auto_rows": null,
            "grid_column": null,
            "grid_gap": null,
            "grid_row": null,
            "grid_template_areas": null,
            "grid_template_columns": null,
            "grid_template_rows": null,
            "height": null,
            "justify_content": null,
            "justify_items": null,
            "left": null,
            "margin": null,
            "max_height": null,
            "max_width": null,
            "min_height": null,
            "min_width": null,
            "object_fit": null,
            "object_position": null,
            "order": null,
            "overflow": null,
            "overflow_x": null,
            "overflow_y": null,
            "padding": null,
            "right": null,
            "top": null,
            "visibility": null,
            "width": null
          }
        },
        "f3c1cce9789f41918089bf16944659ed": {
          "model_module": "@jupyter-widgets/base",
          "model_name": "LayoutModel",
          "model_module_version": "1.2.0",
          "state": {
            "_model_module": "@jupyter-widgets/base",
            "_model_module_version": "1.2.0",
            "_model_name": "LayoutModel",
            "_view_count": null,
            "_view_module": "@jupyter-widgets/base",
            "_view_module_version": "1.2.0",
            "_view_name": "LayoutView",
            "align_content": null,
            "align_items": null,
            "align_self": null,
            "border": null,
            "bottom": null,
            "display": null,
            "flex": null,
            "flex_flow": null,
            "grid_area": null,
            "grid_auto_columns": null,
            "grid_auto_flow": null,
            "grid_auto_rows": null,
            "grid_column": null,
            "grid_gap": null,
            "grid_row": null,
            "grid_template_areas": null,
            "grid_template_columns": null,
            "grid_template_rows": null,
            "height": null,
            "justify_content": null,
            "justify_items": null,
            "left": null,
            "margin": null,
            "max_height": null,
            "max_width": null,
            "min_height": null,
            "min_width": null,
            "object_fit": null,
            "object_position": null,
            "order": null,
            "overflow": null,
            "overflow_x": null,
            "overflow_y": null,
            "padding": null,
            "right": null,
            "top": null,
            "visibility": null,
            "width": null
          }
        },
        "ea7fee4822b846609a40eae8c76c9e79": {
          "model_module": "@jupyter-widgets/controls",
          "model_name": "DescriptionStyleModel",
          "model_module_version": "1.5.0",
          "state": {
            "_model_module": "@jupyter-widgets/controls",
            "_model_module_version": "1.5.0",
            "_model_name": "DescriptionStyleModel",
            "_view_count": null,
            "_view_module": "@jupyter-widgets/base",
            "_view_module_version": "1.2.0",
            "_view_name": "StyleView",
            "description_width": ""
          }
        },
        "cd47fc8327374eb5b06111d931a84fd3": {
          "model_module": "@jupyter-widgets/base",
          "model_name": "LayoutModel",
          "model_module_version": "1.2.0",
          "state": {
            "_model_module": "@jupyter-widgets/base",
            "_model_module_version": "1.2.0",
            "_model_name": "LayoutModel",
            "_view_count": null,
            "_view_module": "@jupyter-widgets/base",
            "_view_module_version": "1.2.0",
            "_view_name": "LayoutView",
            "align_content": null,
            "align_items": null,
            "align_self": null,
            "border": null,
            "bottom": null,
            "display": null,
            "flex": null,
            "flex_flow": null,
            "grid_area": null,
            "grid_auto_columns": null,
            "grid_auto_flow": null,
            "grid_auto_rows": null,
            "grid_column": null,
            "grid_gap": null,
            "grid_row": null,
            "grid_template_areas": null,
            "grid_template_columns": null,
            "grid_template_rows": null,
            "height": null,
            "justify_content": null,
            "justify_items": null,
            "left": null,
            "margin": null,
            "max_height": null,
            "max_width": null,
            "min_height": null,
            "min_width": null,
            "object_fit": null,
            "object_position": null,
            "order": null,
            "overflow": null,
            "overflow_x": null,
            "overflow_y": null,
            "padding": null,
            "right": null,
            "top": null,
            "visibility": null,
            "width": null
          }
        },
        "d0f91ecd345b4dbfab765f9486909459": {
          "model_module": "@jupyter-widgets/controls",
          "model_name": "ProgressStyleModel",
          "model_module_version": "1.5.0",
          "state": {
            "_model_module": "@jupyter-widgets/controls",
            "_model_module_version": "1.5.0",
            "_model_name": "ProgressStyleModel",
            "_view_count": null,
            "_view_module": "@jupyter-widgets/base",
            "_view_module_version": "1.2.0",
            "_view_name": "StyleView",
            "bar_color": null,
            "description_width": ""
          }
        },
        "5c1fd61472c44dd9bb06f569b58a58c7": {
          "model_module": "@jupyter-widgets/base",
          "model_name": "LayoutModel",
          "model_module_version": "1.2.0",
          "state": {
            "_model_module": "@jupyter-widgets/base",
            "_model_module_version": "1.2.0",
            "_model_name": "LayoutModel",
            "_view_count": null,
            "_view_module": "@jupyter-widgets/base",
            "_view_module_version": "1.2.0",
            "_view_name": "LayoutView",
            "align_content": null,
            "align_items": null,
            "align_self": null,
            "border": null,
            "bottom": null,
            "display": null,
            "flex": null,
            "flex_flow": null,
            "grid_area": null,
            "grid_auto_columns": null,
            "grid_auto_flow": null,
            "grid_auto_rows": null,
            "grid_column": null,
            "grid_gap": null,
            "grid_row": null,
            "grid_template_areas": null,
            "grid_template_columns": null,
            "grid_template_rows": null,
            "height": null,
            "justify_content": null,
            "justify_items": null,
            "left": null,
            "margin": null,
            "max_height": null,
            "max_width": null,
            "min_height": null,
            "min_width": null,
            "object_fit": null,
            "object_position": null,
            "order": null,
            "overflow": null,
            "overflow_x": null,
            "overflow_y": null,
            "padding": null,
            "right": null,
            "top": null,
            "visibility": null,
            "width": null
          }
        },
        "af3a044f069844b3bc2fc189c51415a9": {
          "model_module": "@jupyter-widgets/controls",
          "model_name": "DescriptionStyleModel",
          "model_module_version": "1.5.0",
          "state": {
            "_model_module": "@jupyter-widgets/controls",
            "_model_module_version": "1.5.0",
            "_model_name": "DescriptionStyleModel",
            "_view_count": null,
            "_view_module": "@jupyter-widgets/base",
            "_view_module_version": "1.2.0",
            "_view_name": "StyleView",
            "description_width": ""
          }
        }
      }
    }
  },
  "cells": [
    {
      "cell_type": "markdown",
      "source": [
        "# Environment"
      ],
      "metadata": {
        "id": "5AOHeFnckOsi"
      }
    },
    {
      "cell_type": "code",
      "source": [
        "!pip install bertviz\n",
        "!pip install datasets evaluate\n",
        "\n",
        "import time\n",
        "import enum\n",
        "import evaluate\n",
        "import numpy as np\n",
        "import pandas as pd\n",
        "import seaborn as sns\n",
        "from itertools import cycle\n",
        "import matplotlib.pyplot as plt\n",
        "from bertviz import head_view\n",
        "from datasets import load_dataset\n",
        "from sklearn.feature_selection import chi2\n",
        "from sklearn.datasets import make_classification\n",
        "from sklearn.model_selection import KFold, train_test_split\n",
        "from sklearn.metrics import accuracy_score, roc_curve, roc_auc_score,  auc, classification_report\n",
        "from sklearn.neighbors import KNeighborsClassifier\n",
        "from sklearn.linear_model import LogisticRegression\n",
        "from sklearn.ensemble import RandomForestClassifier\n",
        "import torch\n",
        "import torch.nn as nn\n",
        "import torch.nn.functional as F\n",
        "from torch.utils.data import Dataset, DataLoader\n",
        "from transformers import BertForSequenceClassification, TrainingArguments, Trainer, BertTokenizer, BertModel"
      ],
      "metadata": {
        "id": "ckU1PHpg4f7L",
        "colab": {
          "base_uri": "https://localhost:8080/"
        },
        "outputId": "26232ca3-309f-466f-c709-e06956be3e56",
        "collapsed": true
      },
      "execution_count": null,
      "outputs": [
        {
          "output_type": "stream",
          "name": "stdout",
          "text": [
            "Requirement already satisfied: bertviz in /usr/local/lib/python3.11/dist-packages (1.4.0)\n",
            "Requirement already satisfied: transformers>=2.0 in /usr/local/lib/python3.11/dist-packages (from bertviz) (4.51.3)\n",
            "Requirement already satisfied: torch>=1.0 in /usr/local/lib/python3.11/dist-packages (from bertviz) (2.6.0+cu124)\n",
            "Requirement already satisfied: tqdm in /usr/local/lib/python3.11/dist-packages (from bertviz) (4.67.1)\n",
            "Requirement already satisfied: boto3 in /usr/local/lib/python3.11/dist-packages (from bertviz) (1.37.36)\n",
            "Requirement already satisfied: requests in /usr/local/lib/python3.11/dist-packages (from bertviz) (2.32.3)\n",
            "Requirement already satisfied: regex in /usr/local/lib/python3.11/dist-packages (from bertviz) (2024.11.6)\n",
            "Requirement already satisfied: sentencepiece in /usr/local/lib/python3.11/dist-packages (from bertviz) (0.2.0)\n",
            "Requirement already satisfied: filelock in /usr/local/lib/python3.11/dist-packages (from torch>=1.0->bertviz) (3.18.0)\n",
            "Requirement already satisfied: typing-extensions>=4.10.0 in /usr/local/lib/python3.11/dist-packages (from torch>=1.0->bertviz) (4.13.2)\n",
            "Requirement already satisfied: networkx in /usr/local/lib/python3.11/dist-packages (from torch>=1.0->bertviz) (3.4.2)\n",
            "Requirement already satisfied: jinja2 in /usr/local/lib/python3.11/dist-packages (from torch>=1.0->bertviz) (3.1.6)\n",
            "Requirement already satisfied: fsspec in /usr/local/lib/python3.11/dist-packages (from torch>=1.0->bertviz) (2024.12.0)\n",
            "Requirement already satisfied: nvidia-cuda-nvrtc-cu12==12.4.127 in /usr/local/lib/python3.11/dist-packages (from torch>=1.0->bertviz) (12.4.127)\n",
            "Requirement already satisfied: nvidia-cuda-runtime-cu12==12.4.127 in /usr/local/lib/python3.11/dist-packages (from torch>=1.0->bertviz) (12.4.127)\n",
            "Requirement already satisfied: nvidia-cuda-cupti-cu12==12.4.127 in /usr/local/lib/python3.11/dist-packages (from torch>=1.0->bertviz) (12.4.127)\n",
            "Requirement already satisfied: nvidia-cudnn-cu12==9.1.0.70 in /usr/local/lib/python3.11/dist-packages (from torch>=1.0->bertviz) (9.1.0.70)\n",
            "Requirement already satisfied: nvidia-cublas-cu12==12.4.5.8 in /usr/local/lib/python3.11/dist-packages (from torch>=1.0->bertviz) (12.4.5.8)\n",
            "Requirement already satisfied: nvidia-cufft-cu12==11.2.1.3 in /usr/local/lib/python3.11/dist-packages (from torch>=1.0->bertviz) (11.2.1.3)\n",
            "Requirement already satisfied: nvidia-curand-cu12==10.3.5.147 in /usr/local/lib/python3.11/dist-packages (from torch>=1.0->bertviz) (10.3.5.147)\n",
            "Requirement already satisfied: nvidia-cusolver-cu12==11.6.1.9 in /usr/local/lib/python3.11/dist-packages (from torch>=1.0->bertviz) (11.6.1.9)\n",
            "Requirement already satisfied: nvidia-cusparse-cu12==12.3.1.170 in /usr/local/lib/python3.11/dist-packages (from torch>=1.0->bertviz) (12.3.1.170)\n",
            "Requirement already satisfied: nvidia-cusparselt-cu12==0.6.2 in /usr/local/lib/python3.11/dist-packages (from torch>=1.0->bertviz) (0.6.2)\n",
            "Requirement already satisfied: nvidia-nccl-cu12==2.21.5 in /usr/local/lib/python3.11/dist-packages (from torch>=1.0->bertviz) (2.21.5)\n",
            "Requirement already satisfied: nvidia-nvtx-cu12==12.4.127 in /usr/local/lib/python3.11/dist-packages (from torch>=1.0->bertviz) (12.4.127)\n",
            "Requirement already satisfied: nvidia-nvjitlink-cu12==12.4.127 in /usr/local/lib/python3.11/dist-packages (from torch>=1.0->bertviz) (12.4.127)\n",
            "Requirement already satisfied: triton==3.2.0 in /usr/local/lib/python3.11/dist-packages (from torch>=1.0->bertviz) (3.2.0)\n",
            "Requirement already satisfied: sympy==1.13.1 in /usr/local/lib/python3.11/dist-packages (from torch>=1.0->bertviz) (1.13.1)\n",
            "Requirement already satisfied: mpmath<1.4,>=1.1.0 in /usr/local/lib/python3.11/dist-packages (from sympy==1.13.1->torch>=1.0->bertviz) (1.3.0)\n",
            "Requirement already satisfied: huggingface-hub<1.0,>=0.30.0 in /usr/local/lib/python3.11/dist-packages (from transformers>=2.0->bertviz) (0.30.2)\n",
            "Requirement already satisfied: numpy>=1.17 in /usr/local/lib/python3.11/dist-packages (from transformers>=2.0->bertviz) (2.0.2)\n",
            "Requirement already satisfied: packaging>=20.0 in /usr/local/lib/python3.11/dist-packages (from transformers>=2.0->bertviz) (24.2)\n",
            "Requirement already satisfied: pyyaml>=5.1 in /usr/local/lib/python3.11/dist-packages (from transformers>=2.0->bertviz) (6.0.2)\n",
            "Requirement already satisfied: tokenizers<0.22,>=0.21 in /usr/local/lib/python3.11/dist-packages (from transformers>=2.0->bertviz) (0.21.1)\n",
            "Requirement already satisfied: safetensors>=0.4.3 in /usr/local/lib/python3.11/dist-packages (from transformers>=2.0->bertviz) (0.5.3)\n",
            "Requirement already satisfied: botocore<1.38.0,>=1.37.36 in /usr/local/lib/python3.11/dist-packages (from boto3->bertviz) (1.37.36)\n",
            "Requirement already satisfied: jmespath<2.0.0,>=0.7.1 in /usr/local/lib/python3.11/dist-packages (from boto3->bertviz) (1.0.1)\n",
            "Requirement already satisfied: s3transfer<0.12.0,>=0.11.0 in /usr/local/lib/python3.11/dist-packages (from boto3->bertviz) (0.11.5)\n",
            "Requirement already satisfied: charset-normalizer<4,>=2 in /usr/local/lib/python3.11/dist-packages (from requests->bertviz) (3.4.1)\n",
            "Requirement already satisfied: idna<4,>=2.5 in /usr/local/lib/python3.11/dist-packages (from requests->bertviz) (3.10)\n",
            "Requirement already satisfied: urllib3<3,>=1.21.1 in /usr/local/lib/python3.11/dist-packages (from requests->bertviz) (2.3.0)\n",
            "Requirement already satisfied: certifi>=2017.4.17 in /usr/local/lib/python3.11/dist-packages (from requests->bertviz) (2025.1.31)\n",
            "Requirement already satisfied: python-dateutil<3.0.0,>=2.1 in /usr/local/lib/python3.11/dist-packages (from botocore<1.38.0,>=1.37.36->boto3->bertviz) (2.8.2)\n",
            "Requirement already satisfied: MarkupSafe>=2.0 in /usr/local/lib/python3.11/dist-packages (from jinja2->torch>=1.0->bertviz) (3.0.2)\n",
            "Requirement already satisfied: six>=1.5 in /usr/local/lib/python3.11/dist-packages (from python-dateutil<3.0.0,>=2.1->botocore<1.38.0,>=1.37.36->boto3->bertviz) (1.17.0)\n",
            "Requirement already satisfied: datasets in /usr/local/lib/python3.11/dist-packages (3.5.0)\n",
            "Requirement already satisfied: evaluate in /usr/local/lib/python3.11/dist-packages (0.4.3)\n",
            "Requirement already satisfied: filelock in /usr/local/lib/python3.11/dist-packages (from datasets) (3.18.0)\n",
            "Requirement already satisfied: numpy>=1.17 in /usr/local/lib/python3.11/dist-packages (from datasets) (2.0.2)\n",
            "Requirement already satisfied: pyarrow>=15.0.0 in /usr/local/lib/python3.11/dist-packages (from datasets) (18.1.0)\n",
            "Requirement already satisfied: dill<0.3.9,>=0.3.0 in /usr/local/lib/python3.11/dist-packages (from datasets) (0.3.8)\n",
            "Requirement already satisfied: pandas in /usr/local/lib/python3.11/dist-packages (from datasets) (2.2.2)\n",
            "Requirement already satisfied: requests>=2.32.2 in /usr/local/lib/python3.11/dist-packages (from datasets) (2.32.3)\n",
            "Requirement already satisfied: tqdm>=4.66.3 in /usr/local/lib/python3.11/dist-packages (from datasets) (4.67.1)\n",
            "Requirement already satisfied: xxhash in /usr/local/lib/python3.11/dist-packages (from datasets) (3.5.0)\n",
            "Requirement already satisfied: multiprocess<0.70.17 in /usr/local/lib/python3.11/dist-packages (from datasets) (0.70.16)\n",
            "Requirement already satisfied: fsspec<=2024.12.0,>=2023.1.0 in /usr/local/lib/python3.11/dist-packages (from fsspec[http]<=2024.12.0,>=2023.1.0->datasets) (2024.12.0)\n",
            "Requirement already satisfied: aiohttp in /usr/local/lib/python3.11/dist-packages (from datasets) (3.11.15)\n",
            "Requirement already satisfied: huggingface-hub>=0.24.0 in /usr/local/lib/python3.11/dist-packages (from datasets) (0.30.2)\n",
            "Requirement already satisfied: packaging in /usr/local/lib/python3.11/dist-packages (from datasets) (24.2)\n",
            "Requirement already satisfied: pyyaml>=5.1 in /usr/local/lib/python3.11/dist-packages (from datasets) (6.0.2)\n",
            "Requirement already satisfied: aiohappyeyeballs>=2.3.0 in /usr/local/lib/python3.11/dist-packages (from aiohttp->datasets) (2.6.1)\n",
            "Requirement already satisfied: aiosignal>=1.1.2 in /usr/local/lib/python3.11/dist-packages (from aiohttp->datasets) (1.3.2)\n",
            "Requirement already satisfied: attrs>=17.3.0 in /usr/local/lib/python3.11/dist-packages (from aiohttp->datasets) (25.3.0)\n",
            "Requirement already satisfied: frozenlist>=1.1.1 in /usr/local/lib/python3.11/dist-packages (from aiohttp->datasets) (1.5.0)\n",
            "Requirement already satisfied: multidict<7.0,>=4.5 in /usr/local/lib/python3.11/dist-packages (from aiohttp->datasets) (6.4.3)\n",
            "Requirement already satisfied: propcache>=0.2.0 in /usr/local/lib/python3.11/dist-packages (from aiohttp->datasets) (0.3.1)\n",
            "Requirement already satisfied: yarl<2.0,>=1.17.0 in /usr/local/lib/python3.11/dist-packages (from aiohttp->datasets) (1.19.0)\n",
            "Requirement already satisfied: typing-extensions>=3.7.4.3 in /usr/local/lib/python3.11/dist-packages (from huggingface-hub>=0.24.0->datasets) (4.13.2)\n",
            "Requirement already satisfied: charset-normalizer<4,>=2 in /usr/local/lib/python3.11/dist-packages (from requests>=2.32.2->datasets) (3.4.1)\n",
            "Requirement already satisfied: idna<4,>=2.5 in /usr/local/lib/python3.11/dist-packages (from requests>=2.32.2->datasets) (3.10)\n",
            "Requirement already satisfied: urllib3<3,>=1.21.1 in /usr/local/lib/python3.11/dist-packages (from requests>=2.32.2->datasets) (2.3.0)\n",
            "Requirement already satisfied: certifi>=2017.4.17 in /usr/local/lib/python3.11/dist-packages (from requests>=2.32.2->datasets) (2025.1.31)\n",
            "Requirement already satisfied: python-dateutil>=2.8.2 in /usr/local/lib/python3.11/dist-packages (from pandas->datasets) (2.8.2)\n",
            "Requirement already satisfied: pytz>=2020.1 in /usr/local/lib/python3.11/dist-packages (from pandas->datasets) (2025.2)\n",
            "Requirement already satisfied: tzdata>=2022.7 in /usr/local/lib/python3.11/dist-packages (from pandas->datasets) (2025.2)\n",
            "Requirement already satisfied: six>=1.5 in /usr/local/lib/python3.11/dist-packages (from python-dateutil>=2.8.2->pandas->datasets) (1.17.0)\n"
          ]
        }
      ]
    },
    {
      "cell_type": "markdown",
      "source": [
        "# Data"
      ],
      "metadata": {
        "id": "-qX0IKiikBmM"
      }
    },
    {
      "cell_type": "markdown",
      "source": [
        "## Import Dataset"
      ],
      "metadata": {
        "id": "TanlHQeD4nFK"
      }
    },
    {
      "cell_type": "code",
      "source": [
        "train_dataset = load_dataset('ag_news', split='train')\n",
        "test_dataset = load_dataset('ag_news', split='test')"
      ],
      "metadata": {
        "id": "iMCIZZdg4pBN"
      },
      "execution_count": null,
      "outputs": []
    },
    {
      "cell_type": "markdown",
      "source": [
        "## Visualize Data"
      ],
      "metadata": {
        "id": "1F22AOZncQY8"
      }
    },
    {
      "cell_type": "code",
      "source": [
        "# View a single example\n",
        "print(train_dataset[0])\n",
        "\n",
        "# Get column names\n",
        "print(train_dataset.column_names)\n",
        "\n",
        "# Check label names\n",
        "label_names = train_dataset.features['label'].names\n",
        "print(label_names)\n",
        "\n",
        "# Count class distribution\n",
        "from collections import Counter\n",
        "\n",
        "label_counts = Counter(example['label'] for example in train_dataset)\n",
        "for idx, count in label_counts.items():\n",
        "    print(f\"{label_names[idx]}: {count}\")"
      ],
      "metadata": {
        "colab": {
          "base_uri": "https://localhost:8080/"
        },
        "id": "cQ22HttVcWSz",
        "outputId": "4f1af58b-a337-4028-8490-940f4a1b06b3"
      },
      "execution_count": null,
      "outputs": [
        {
          "output_type": "stream",
          "name": "stdout",
          "text": [
            "{'text': \"Wall St. Bears Claw Back Into the Black (Reuters) Reuters - Short-sellers, Wall Street's dwindling\\\\band of ultra-cynics, are seeing green again.\", 'label': 2}\n",
            "['text', 'label']\n",
            "['World', 'Sports', 'Business', 'Sci/Tech']\n",
            "Business: 30000\n",
            "Sci/Tech: 30000\n",
            "Sports: 30000\n",
            "World: 30000\n"
          ]
        }
      ]
    },
    {
      "cell_type": "code",
      "source": [
        "# Convert to pandas DataFrame for easier analysis\n",
        "df_train = pd.DataFrame(train_dataset)\n",
        "\n",
        "# Map label indices to names\n",
        "df_train['label_name'] = df_train['label'].apply(lambda x: label_names[x])\n",
        "\n",
        "# Plot distribution\n",
        "sns.countplot(data=df_train, x='label_name')\n",
        "plt.title(\"Class Distribution in AG News Training Set\")\n",
        "plt.xlabel(\"Category\")\n",
        "plt.ylabel(\"Count\")\n",
        "plt.xticks(rotation=45)\n",
        "plt.show()"
      ],
      "metadata": {
        "colab": {
          "base_uri": "https://localhost:8080/"
        },
        "id": "YmyeK2gscZYm",
        "outputId": "af85076b-8c5f-4e6c-9b58-20b3580ed047"
      },
      "execution_count": null,
      "outputs": [
        {
          "output_type": "display_data",
          "data": {
            "text/plain": [
              "<Figure size 640x480 with 1 Axes>"
            ],
            "image/png": "[encoded data removed]"
          },
          "metadata": {}
        }
      ]
    },
    {
      "cell_type": "code",
      "source": [
        "df_train['text_len'] = df_train['text'].apply(lambda x: len(x.split()))\n",
        "\n",
        "sns.histplot(df_train['text_len'], bins=30, kde=True)\n",
        "plt.title(\"Distribution of Text Lengths in Tokens\")\n",
        "plt.xlabel(\"Token Count\")\n",
        "plt.ylabel(\"Frequency\")\n",
        "plt.show()"
      ],
      "metadata": {
        "colab": {
          "base_uri": "https://localhost:8080/"
        },
        "id": "LYDVEeWkcdQf",
        "outputId": "178cdc50-dbaa-45e2-982d-4181a8fc88df"
      },
      "execution_count": null,
      "outputs": [
        {
          "output_type": "display_data",
          "data": {
            "text/plain": [
              "<Figure size 640x480 with 1 Axes>"
            ],
            "image/png": "[encoded data removed]"
          },
          "metadata": {}
        }
      ]
    },
    {
      "cell_type": "markdown",
      "source": [
        "\n",
        "# BERT"
      ],
      "metadata": {
        "id": "MQ1_fHK7WtPJ"
      }
    },
    {
      "cell_type": "code",
      "source": [
        "# load tokenizer and model\n",
        "tokenizer = BertTokenizer.from_pretrained(\"google-bert/bert-base-uncased\")\n",
        "model = BertModel.from_pretrained(\"google-bert/bert-base-uncased\")"
      ],
      "metadata": {
        "id": "mGEd7c_VWrU6"
      },
      "execution_count": null,
      "outputs": []
    },
    {
      "cell_type": "markdown",
      "source": [
        "# Experiments"
      ],
      "metadata": {
        "id": "NKh7YhcPGpJD"
      }
    },
    {
      "cell_type": "markdown",
      "source": [
        "## Experiment 1"
      ],
      "metadata": {
        "id": "LJ1JvNqhGyab"
      }
    },
    {
      "cell_type": "code",
      "source": [
        "train_texts = train_dataset['text'][:4000]\n",
        "train_labels = train_dataset['label'][:4000]\n",
        "test_texts = test_dataset['text'][:1000]\n",
        "test_labels = test_dataset['label'][:1000]\n",
        "\n",
        "def get_embeddings(texts, mode='cls', batch_size=16):\n",
        "    vecs = []\n",
        "    for i in range(0, len(texts), batch_size):\n",
        "        batch = texts[i:i+batch_size]\n",
        "        tokens = tokenizer(batch, return_tensors='pt', padding=True, truncation=True, max_length=64)\n",
        "        tokens = {key: val.to(model.device) for key, val in tokens.items()}\n",
        "        with torch.no_grad():\n",
        "            output = model(**tokens).last_hidden_state\n",
        "\n",
        "        if mode == 'cls':\n",
        "            emb = output[:, 0, :]\n",
        "        elif mode == 'mean':\n",
        "            mask = tokens['attention_mask'].unsqueeze(-1).expand_as(output)\n",
        "            emb = (output * mask).sum(1) / mask.sum(1)\n",
        "        elif mode == 'last':\n",
        "            emb = output[:, -1, :]\n",
        "        vecs.extend(emb.cpu().numpy())\n",
        "    return vecs\n",
        "\n",
        "train_cls = get_embeddings(train_texts, mode='cls')\n",
        "test_cls = get_embeddings(test_texts, mode='cls')\n",
        "train_mean = get_embeddings(train_texts, mode='mean')\n",
        "test_mean = get_embeddings(test_texts, mode='mean')\n",
        "\n",
        "def encode_texts(texts, tokenizer, max_len=64):\n",
        "    tokens = tokenizer(texts, padding='max_length', truncation=True, max_length=max_len, return_tensors='pt')\n",
        "    return tokens['input_ids']\n",
        "\n",
        "X_train_ids = encode_texts(train_texts, tokenizer)\n",
        "X_test_ids = encode_texts(test_texts, tokenizer)\n",
        "y_train_tensor = torch.tensor(train_labels)\n",
        "y_test_tensor = torch.tensor(test_labels)\n",
        "\n",
        "def knn(X_train, y_train, X_test, y_test):\n",
        "    best_k = 1\n",
        "    best_score = 0\n",
        "    for k in range(1, 21):\n",
        "        knn = KNeighborsClassifier(n_neighbors=k)\n",
        "        knn.fit(X_train, y_train)\n",
        "        acc = knn.score(X_test, y_test)\n",
        "        if acc > best_score:\n",
        "            best_score = acc\n",
        "            best_k = k\n",
        "    return best_k, best_score\n",
        "\n",
        "def log(X_train, y_train, X_test, y_test):\n",
        "    model = LogisticRegression(max_iter=1000)\n",
        "    model.fit(X_train, y_train)\n",
        "    preds = model.predict(X_test)\n",
        "    acc = accuracy_score(y_test, preds)\n",
        "    report = classification_report(y_test, preds)\n",
        "    return acc, report\n",
        "\n",
        "def random_forest(X_train, y_train, X_test, y_test):\n",
        "    model = RandomForestClassifier(n_estimators=100, random_state=42)\n",
        "    model.fit(X_train, y_train)\n",
        "    preds = model.predict(X_test)\n",
        "    acc = accuracy_score(y_test, preds)\n",
        "    print(f\"Random Forest Accuracy: {acc:.4f}\")\n",
        "    report = classification_report(y_test, preds)\n",
        "    return acc, report\n",
        "\n",
        "class TextDataset(torch.utils.data.Dataset):\n",
        "    def __init__(self, inputs, labels):\n",
        "        self.inputs = inputs\n",
        "        self.labels = labels\n",
        "    def __len__(self):\n",
        "        return len(self.inputs)\n",
        "    def __getitem__(self, idx):\n",
        "        return self.inputs[idx], self.labels[idx]\n",
        "\n",
        "train_dataset = TextDataset(X_train_ids, y_train_tensor)\n",
        "test_dataset = TextDataset(X_test_ids, y_test_tensor)\n",
        "\n",
        "train_loader = DataLoader(train_dataset, batch_size=32, shuffle=True)\n",
        "test_loader = DataLoader(test_dataset, batch_size=64)\n",
        "\n",
        "def rnn(train_loader, test_loader, vocab_size, num_classes=4, epochs=10, emb_dim=256, hidden_dim=256, dropout_rate=0.3):\n",
        "    class VanillaRNN(nn.Module):\n",
        "        def __init__(self, vocab_size, emb_dim, hidden_dim, num_classes):\n",
        "            super().__init__()\n",
        "            self.embedding = nn.Embedding(vocab_size, emb_dim)\n",
        "            self.dropout = nn.Dropout(dropout_rate)\n",
        "            self.rnn = nn.GRU(emb_dim, hidden_dim, batch_first=True, bidirectional=True, dropout=dropout_rate, num_layers=2)\n",
        "            self.layer_norm = nn.LayerNorm(hidden_dim * 2)\n",
        "            self.attention = nn.Linear(hidden_dim * 2, 1)\n",
        "            self.fc = nn.Linear(hidden_dim * 2, num_classes)\n",
        "\n",
        "        def forward(self, x):\n",
        "            embedded = self.embedding(x)\n",
        "            embedded = self.dropout(embedded)\n",
        "\n",
        "            rnn_out, _ = self.rnn(embedded)\n",
        "            rnn_out = self.layer_norm(rnn_out)\n",
        "\n",
        "            # Attention mechanism\n",
        "            attn_weights = self.attention(rnn_out)\n",
        "            attn_weights = F.softmax(attn_weights, dim=1)\n",
        "\n",
        "            # Weighted sum of hidden states\n",
        "            context = torch.sum(attn_weights * rnn_out, dim=1)\n",
        "\n",
        "            context = self.dropout(context)\n",
        "            output = self.fc(context)\n",
        "\n",
        "            return output\n",
        "\n",
        "    device = torch.device(\"cuda\" if torch.cuda.is_available() else \"cpu\")\n",
        "\n",
        "    model = VanillaRNN(vocab_size, emb_dim, hidden_dim, num_classes).to(device)\n",
        "    optimizer =torch.optim.Adam(model.parameters(), lr=1e-3, weight_decay=1e-5)\n",
        "    scheduler = torch.optim.lr_scheduler.StepLR(optimizer, step_size=3, gamma=0.5)\n",
        "    criterion = nn.CrossEntropyLoss()\n",
        "\n",
        "    # Training\n",
        "    for epoch in range(epochs):\n",
        "        model.train()\n",
        "        total_loss = 0\n",
        "        for inputs, labels in train_loader:\n",
        "            inputs, labels = inputs.to(device), labels.to(device)\n",
        "            optimizer.zero_grad()\n",
        "            outputs = model(inputs)\n",
        "            loss = criterion(outputs, labels)\n",
        "            loss.backward()\n",
        "            optimizer.step()\n",
        "            total_loss += loss.item()\n",
        "        scheduler.step()\n",
        "        # print(f\"Epoch {epoch+1}, Loss: {total_loss:.4f}\")\n",
        "\n",
        "    # Evaluation\n",
        "    model.eval()\n",
        "    preds = []\n",
        "    true = []\n",
        "    with torch.no_grad():\n",
        "        for inputs, labels in test_loader:\n",
        "            inputs = inputs.to(device)\n",
        "            outputs = model(inputs)\n",
        "            pred_labels = outputs.argmax(dim=1).cpu().numpy()\n",
        "            preds.extend(pred_labels)\n",
        "            true.extend(labels.numpy())\n",
        "\n",
        "    acc = accuracy_score(true, preds)\n",
        "    report = classification_report(true, preds)\n",
        "    print(f\"RNN Accuracy: {acc:.4f}\")\n",
        "    return acc, report\n",
        "\n",
        "k_cls, acc_knn_cls = knn(train_cls, train_labels, test_cls, test_labels)\n",
        "acc_log_cls, report_cls = log(train_cls, train_labels, test_cls, test_labels)\n",
        "acc_rf_cls, report_rf_cls = random_forest(train_cls, train_labels, test_cls, test_labels)\n",
        "\n",
        "k_mean, acc_knn_mean = knn(train_mean, train_labels, test_mean, test_labels)\n",
        "acc_log_mean, report_mean = log(train_mean, train_labels, test_mean, test_labels)\n",
        "acc_rf_mean, report_rf_mean = random_forest(train_mean, train_labels, test_mean, test_labels)\n",
        "\n",
        "acc_rnn, report_rnn = rnn(train_loader, test_loader, vocab_size=tokenizer.vocab_size)\n",
        "\n",
        "summary = pd.DataFrame({\n",
        "    \"Embedding\": [\"CLS\", \"Mean\"],\n",
        "    \"Best K\": [k_cls, k_mean],\n",
        "    \"KNN Accuracy\": [acc_knn_cls, acc_knn_mean],\n",
        "    \"LogReg Accuracy\": [acc_log_cls, acc_log_mean],\n",
        "    \"Random Forest Accuracy\": [acc_rf_cls, acc_rf_mean],\n",
        "    \"RNN Accuracy\": [acc_rnn, report_rnn]\n",
        "})\n",
        "print(summary)\n",
        "\n",
        "def plot_knn_curve(X_train, y_train, X_test, y_test):\n",
        "    ks = list(range(1, 21))\n",
        "    accs = []\n",
        "    for k in ks:\n",
        "        knn = KNeighborsClassifier(n_neighbors=k)\n",
        "        knn.fit(X_train, y_train)\n",
        "        accs.append(knn.score(X_test, y_test))\n",
        "    return ks, accs\n",
        "\n",
        "ks1, accs1 = plot_knn_curve(train_cls, train_labels, test_cls, test_labels)\n",
        "ks2, accs2 = plot_knn_curve(train_mean, train_labels, test_mean, test_labels)\n",
        "\n",
        "plt.plot(ks1, accs1, label=\"CLS\")\n",
        "plt.plot(ks2, accs2, label=\"Mean\")\n",
        "plt.xlabel(\"K\")\n",
        "plt.ylabel(\"Accuracy\")\n",
        "plt.title(\"KNN Accuracy vs. K\")\n",
        "plt.legend()\n",
        "plt.tight_layout()\n",
        "plt.show()"
      ],
      "metadata": {
        "colab": {
          "base_uri": "https://localhost:8080/",
          "height": 666
        },
        "id": "M_qwkls_G0Cm",
        "outputId": "9adba400-4a4c-47a5-f285-1ea6db25b4f9"
      },
      "execution_count": null,
      "outputs": [
        {
          "output_type": "stream",
          "name": "stdout",
          "text": [
            "Random Forest Accuracy: 0.8010\n",
            "Random Forest Accuracy: 0.8550\n",
            "RNN Accuracy: 0.7900\n",
            "  Embedding  Best K  KNN Accuracy  LogReg Accuracy  Random Forest Accuracy  \\\n",
            "0       CLS       7         0.814            0.845                   0.801   \n",
            "1      Mean       9         0.868            0.866                   0.855   \n",
            "\n",
            "                                        RNN Accuracy  \n",
            "0                                               0.79  \n",
            "1                precision    recall  f1-score   ...  \n"
          ]
        },
        {
          "output_type": "display_data",
          "data": {
            "text/plain": [
              "<Figure size 640x480 with 1 Axes>"
            ],
            "image/png": "[encoded data removed]"
          },
          "metadata": {}
        }
      ]
    },
    {
      "cell_type": "markdown",
      "source": [
        "## Experiment 2"
      ],
      "metadata": {
        "id": "5TCdxgGnG0t1"
      }
    },
    {
      "cell_type": "code",
      "source": [
        "#Overall does not take too long so feel free to play around with it.\n",
        "model = BertForSequenceClassification.from_pretrained(\"google-bert/bert-base-uncased\", num_labels=4)\n",
        "\n",
        "def tokenize(ex):\n",
        "    return tokenizer(ex[\"text\"], padding=\"max_length\", truncation=True, max_length=128)\n",
        "\n",
        "train_dataset = train_dataset.map(tokenize, batched=True)\n",
        "test_dataset = test_dataset.map(tokenize, batched=True)\n",
        "\n",
        "train_dataset.set_format(type=\"torch\", columns=[\"input_ids\", \"attention_mask\", \"label\"])\n",
        "test_dataset.set_format(type=\"torch\", columns=[\"input_ids\", \"attention_mask\", \"label\"])\n",
        "\n",
        "small_train_data = train_dataset.shuffle(seed=1).select(range(10000))\n",
        "small_eval_data = test_dataset.select(range(1000))\n",
        "\n",
        "accuracy = evaluate.load(\"accuracy\")\n",
        "\n",
        "def compute_metrics(eval):\n",
        "    logits, labels = eval\n",
        "    preds = np.argmax(logits, axis=-1)\n",
        "    return accuracy.compute(predictions=preds, references=labels)\n",
        "\n",
        "training_args = TrainingArguments(\n",
        "    output_dir=\"./output\",\n",
        "    eval_strategy=\"epoch\",\n",
        "    save_strategy=\"epoch\",\n",
        "    logging_dir=\"./log\",\n",
        "    num_train_epochs=3,\n",
        "    per_device_train_batch_size=16,\n",
        "    per_device_eval_batch_size=64,\n",
        "    load_best_model_at_end=True,\n",
        "    report_to=\"none\", # Keep this cause it started asking for api keys\n",
        ")\n",
        "\n",
        "trainer = Trainer(\n",
        "    model=model,\n",
        "    args=training_args,\n",
        "    train_dataset=small_train_data,\n",
        "    eval_dataset=small_eval_data,\n",
        "    compute_metrics=compute_metrics,\n",
        ")\n",
        "\n",
        "trainer.train()\n",
        "\n",
        "results = trainer.evaluate(test_dataset)\n",
        "print(\"Final test accuracy:\", results[\"eval_accuracy\"])\n",
        "\n"
      ],
      "metadata": {
        "id": "5X9mQtYlG4EC",
        "colab": {
          "base_uri": "https://localhost:8080/",
          "height": 85,
          "referenced_widgets": [
            "e56be21d1ea747358ee5e00fb9b07af2",
            "22c3577bc1b14117bab6f2bb3e7cea0e",
            "d4d783f064e7404f9c524dd2a9d5fa3b",
            "781ab9df181a4423ba0975634a010fb7",
            "46f5e72a5f7e44169053da3f01b35b83",
            "f3c1cce9789f41918089bf16944659ed",
            "ea7fee4822b846609a40eae8c76c9e79",
            "cd47fc8327374eb5b06111d931a84fd3",
            "d0f91ecd345b4dbfab765f9486909459",
            "5c1fd61472c44dd9bb06f569b58a58c7",
            "af3a044f069844b3bc2fc189c51415a9"
          ]
        },
        "outputId": "0438ab22-f8c4-450e-eebe-09cb1c57d98f"
      },
      "execution_count": null,
      "outputs": [
        {
          "output_type": "stream",
          "name": "stderr",
          "text": [
            "Some weights of BertForSequenceClassification were not initialized from the model checkpoint at google-bert/bert-base-uncased and are newly initialized: ['classifier.bias', 'classifier.weight']\n",
            "You should probably TRAIN this model on a down-stream task to be able to use it for predictions and inference.\n"
          ]
        },
        {
          "output_type": "display_data",
          "data": {
            "text/plain": [
              "Map:   0%|          | 0/120000 [00:00<?, ? examples/s]"
            ],
            "application/vnd.jupyter.widget-view+json": {
              "version_major": 2,
              "version_minor": 0,
              "model_id": "e56be21d1ea747358ee5e00fb9b07af2"
            }
          },
          "metadata": {}
        }
      ]
    },
    {
      "cell_type": "markdown",
      "source": [
        "## Experiment 3\n"
      ],
      "metadata": {
        "id": "iFSVlPbDwfnH"
      }
    },
    {
      "cell_type": "code",
      "source": [
        "best_probing_acc = acc_log_cls\n",
        "\n",
        "fine_tuned_acc = results[\"eval_accuracy\"]\n",
        "\n",
        "labels = [\n",
        "    'KNN (Mean)',\n",
        "    'LogReg (Mean)',\n",
        "    'Random Forest (Mean)',\n",
        "    'Vanilla RNN',\n",
        "    'Fine-tuned BERT'\n",
        "]\n",
        "\n",
        "accuracies = [\n",
        "    acc_knn_mean,\n",
        "    acc_log_mean,\n",
        "    acc_rf_mean,\n",
        "    acc_rnn,\n",
        "    fine_tuned_acc\n",
        "]\n",
        "\n",
        "plt.figure(figsize=(8, 5))\n",
        "bars = plt.bar(labels, accuracies, color=['gray', 'blue', 'green', 'purple', 'orange'])\n",
        "plt.ylim(0.8, 1.0)\n",
        "plt.ylabel(\"Accuracy\")\n",
        "plt.title(\"Model Performance Comparison on AG News\")\n",
        "\n",
        "# Add accuracy labels on top of bars\n",
        "for bar in bars:\n",
        "    yval = bar.get_height()\n",
        "    plt.text(bar.get_x() + bar.get_width()/2.0, yval + 0.005, f\"{yval:.4f}\", ha='center', va='bottom')\n",
        "\n",
        "plt.xticks(rotation=20)\n",
        "plt.tight_layout()\n",
        "plt.show()"
      ],
      "metadata": {
        "id": "kcpuwI9gQfdx"
      },
      "execution_count": null,
      "outputs": []
    },
    {
      "cell_type": "markdown",
      "source": [
        "## Experiment 4\n",
        "\n"
      ],
      "metadata": {
        "id": "1x-od1i-2pGQ"
      }
    },
    {
      "cell_type": "code",
      "source": [
        "pred_output = trainer.predict(test_dataset)\n",
        "logits = pred_output.predictions\n",
        "labels = pred_output.label_ids\n",
        "probs = torch.nn.functional.softmax(torch.tensor(logits), dim=1)\n",
        "preds = np.argmax(logits, axis=1)\n",
        "\n",
        "results = {\"correct\": {}, \"incorrect\": {}}\n",
        "\n",
        "for cls in range(4):\n",
        "    for i in range(len(preds)):\n",
        "        pred = preds[i]\n",
        "        label = labels[i]\n",
        "        if pred == cls and label == cls and cls not in results[\"correct\"]:\n",
        "            results[\"correct\"][cls] = i\n",
        "        elif pred == cls and label != cls and cls not in results[\"incorrect\"]:\n",
        "            results[\"incorrect\"][cls] = i\n",
        "    if len(results[\"correct\"]) == 4 and len(results[\"incorrect\"]) == 4:\n",
        "        break\n",
        "test_raw = load_dataset('ag_news', split='test')\n",
        "def show_attention(index, layer=10, head=0):\n",
        "    text = test_raw[index][\"text\"]\n",
        "    print(f\"\\n Text (Index {index}):\\n{text[:200]}...\\n\")\n",
        "\n",
        "    encoded = tokenizer(text, return_tensors='pt', truncation=True, padding=True, max_length=128)\n",
        "    encoded = {k: v.to(model.device) for k, v in encoded.items()}\n",
        "\n",
        "    with torch.no_grad():\n",
        "        output = model.bert(**encoded, output_attentions=True)\n",
        "\n",
        "    tokens = tokenizer.convert_ids_to_tokens(encoded[\"input_ids\"][0])\n",
        "    head_view(output.attentions, tokens)\n",
        "\n",
        "\n",
        "for cls in range(4):\n",
        "    print(f\"\\n Correct Prediction — Class {cls}\")\n",
        "    show_attention(results[\"correct\"][cls])\n",
        "\n",
        "    print(f\"\\n Incorrect Prediction — Class {cls}\")\n",
        "    show_attention(results[\"incorrect\"][cls])"
      ],
      "metadata": {
        "id": "CizXNBrp2slT",
        "collapsed": true
      },
      "execution_count": null,
      "outputs": []
    }
  ]
}